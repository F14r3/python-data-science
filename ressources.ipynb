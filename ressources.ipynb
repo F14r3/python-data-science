{
 "cells": [
  {
   "cell_type": "markdown",
   "metadata": {},
   "source": [
    "# Online ressources"
   ]
  },
  {
   "cell_type": "markdown",
   "metadata": {},
   "source": [
    "- Courses: \n",
    "    - https://www.datacamp.com/\n",
    "    - https://www.edx.org/\n",
    "    - https://www.coursera.org/ (from Johns Hopkins University)\n",
    "    - https://www.codecademy.com/\n",
    "- Questions/answers:\n",
    "    - https://stackoverflow.com/\n",
    "    - https://www.biostars.org/\n",
    "    - https://bioinformatics.stackexchange.com/\n",
    "    - https://twitter.com"
   ]
  }
 ],
 "metadata": {
  "kernelspec": {
   "display_name": "Python 3",
   "language": "python",
   "name": "python3"
  },
  "language_info": {
   "codemirror_mode": {
    "name": "ipython",
    "version": 3
   },
   "file_extension": ".py",
   "mimetype": "text/x-python",
   "name": "python",
   "nbconvert_exporter": "python",
   "pygments_lexer": "ipython3",
   "version": "3.6.4"
  }
 },
 "nbformat": 4,
 "nbformat_minor": 2
}
