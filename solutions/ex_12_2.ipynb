{
 "cells": [
  {
   "cell_type": "markdown",
   "metadata": {},
   "source": [
    "# Solution to exercise 1.2.2\n",
    "\n",
    "- List all `.txt` files from the `data` directory, print their file path only if it is a file.\n",
    "- Check that the file `genes.txt` exists in `data/`, open the tab separated file, and calculate the length of each genes."
   ]
  },
  {
   "cell_type": "code",
   "execution_count": null,
   "metadata": {},
   "outputs": [],
   "source": [
    "import os\n",
    "dirname = '../data'\n",
    "for filename in os.listdir(dirname):\n",
    "    filepath = os.path.join(dirname, filename)\n",
    "    if os.path.isfile(filepath) and filename.endswith('.txt'):\n",
    "        print(filepath)"
   ]
  },
  {
   "cell_type": "code",
   "execution_count": null,
   "metadata": {},
   "outputs": [],
   "source": [
    "import os\n",
    "filepath = os.path.join('..', 'data', 'genes.txt')\n",
    "if os.path.exists(filepath):\n",
    "    print('file', filepath, 'found')\n",
    "    with open(filepath) as f:\n",
    "        header = f.readline().strip().split()\n",
    "        print(header)\n",
    "        for line in f:\n",
    "            data = line.strip().split()\n",
    "            print(data)\n",
    "            gene_length = int(data[3]) - int(data[2]) + 1\n",
    "            print('gene', data[0], 'length is', gene_length)"
   ]
  }
 ],
 "metadata": {
  "kernelspec": {
   "display_name": "Python 3",
   "language": "python",
   "name": "python3"
  },
  "language_info": {
   "codemirror_mode": {
    "name": "ipython",
    "version": 3
   },
   "file_extension": ".py",
   "mimetype": "text/x-python",
   "name": "python",
   "nbconvert_exporter": "python",
   "pygments_lexer": "ipython3",
   "version": "3.6.4"
  }
 },
 "nbformat": 4,
 "nbformat_minor": 2
}
