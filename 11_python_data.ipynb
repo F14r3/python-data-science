{
 "cells": [
  {
   "cell_type": "markdown",
   "metadata": {
    "slideshow": {
     "slide_type": "-"
    }
   },
   "source": [
    "# Data science in Python\n",
    "\n",
    "- Course GitHub repo: https://github.com/pycam/python-data-science\n",
    "- Python website: https://www.python.org/ \n",
    "\n",
    "## Session 1.1: Starting with data and Python\n",
    "- [Jupyter notebook](#Jupyter-notebook)\n",
    "  - [Exercise 1.1.1](#Exercise-1.1.1)\n",
    "- [Shell commands](#Shell-commands)\n",
    "  - [Exercise 1.1.2](#Exercise-1.1.2)\n",
    "- [Basic Python](#Basic-Python)\n",
    "  - [Exercise 1.1.3](#Exercise-1.1.3)"
   ]
  },
  {
   "cell_type": "markdown",
   "metadata": {},
   "source": [
    "## Mind map\n",
    "\n",
    "<img src=\"img/mind_maps/mind_maps.001.jpeg\">"
   ]
  },
  {
   "cell_type": "markdown",
   "metadata": {},
   "source": [
    "## Jupyter notebook\n",
    "\n",
    "<img src=\"http://jupyter.org/assets/nav_logo.svg\">\n",
    "\n",
    "- The [Jupyter Notebook](http://jupyter.org/) is a web application that allows you to create and share documents that contain live code, equations, visualizations and explanatory text. \n",
    "\n",
    "- Jupyter provides a rich architecture for interactive data science and scientific computing with: \n",
    "    - Over 40 programming languages such as Python, R, Julia and Scala.\n",
    "    - A browser-based notebook with support for code, rich text, math expressions, plots and other rich media.\n",
    "    - Support for interactive data visualization."
   ]
  },
  {
   "cell_type": "markdown",
   "metadata": {},
   "source": [
    "### How to install Jupyter on your own computer?\n",
    "\n",
    "- We recommend using a virtual environment after having installed [Python 3](https://www.python.org/) on your computer\n",
    "```bash\n",
    "python3 -m venv venv\n",
    "source venv/bin/activate # activate your virtual environment\n",
    "```\n",
    "- Install Jupyter:\n",
    "```\n",
    "pip install jupyter\n",
    "```\n",
    "- Start the notebook server from the command line:\n",
    "```\n",
    "jupyter notebook\n",
    "```\n",
    "- You should see the notebook home page open in your web browser."
   ]
  },
  {
   "cell_type": "markdown",
   "metadata": {},
   "source": [
    "### How to run Python in a Jupyter notebook?\n",
    "\n",
    "- See [Jupyter Notebook Basics](http://nbviewer.jupyter.org/github/jupyter/notebook/blob/master/docs/source/examples/Notebook/Notebook%20Basics.ipynb)"
   ]
  },
  {
   "cell_type": "markdown",
   "metadata": {},
   "source": [
    "## Exercise 1.1.1\n",
    "- Create a new Jupyter notebook with one Markdown cell and one Python Code cell. Run the code.\n",
    "- Download the python file associated with the notebook newly created"
   ]
  },
  {
   "cell_type": "markdown",
   "metadata": {},
   "source": [
    "## Shell commands \n",
    "\n",
    "- Three commands\n",
    "  - `pwd` to print working directory\n",
    "  - `ls` to list content of a directory\n",
    "  - `cd` to change directory"
   ]
  },
  {
   "cell_type": "markdown",
   "metadata": {},
   "source": [
    "### Run the Python interpreter\n",
    "\n",
    "On a Mac or Linux machine you first have to open a terminal and then type the command `python3`.\n",
    "<center><img src=\"img/python_shell.png\"></center>"
   ]
  },
  {
   "cell_type": "markdown",
   "metadata": {},
   "source": [
    "### Run Python code from a file\n",
    "\n",
    "For running Python code from a file, open a Terminal window and type the command `python3` or just `python` followed by the name of the script or file that contains Python code.\n",
    "\n",
    "```\n",
    "python3 scripts/hello.py\n",
    "```\n",
    "\n",
    "Please, make sure that you are running the version 3 of Python:\n",
    "```\n",
    "python --version\n",
    "```"
   ]
  },
  {
   "cell_type": "markdown",
   "metadata": {},
   "source": [
    "\n",
    "## Exercise 1.1.2\n",
    "- Find in a terminal window the Python script downloaded from Jupyter notebook and execute it.\n",
    "```\n",
    "python3 my-script.py\n",
    "```\n",
    "- List all data files in `data/` folder from the course materials and find our first data file `gapminder.csv`."
   ]
  },
  {
   "cell_type": "markdown",
   "metadata": {},
   "source": [
    "## Basic Python\n",
    "\n",
    "### Cheat Sheet\n",
    "\n",
    "- [Cheat Sheet](cheat_sheet_basic_python.ipynb)"
   ]
  },
  {
   "cell_type": "markdown",
   "metadata": {},
   "source": [
    "### For loops\n",
    "\n",
    "The **`for` loop** in Python iterates over each item in a collection (such as a list) in the order that they appear in the collection. What this means is that a variable (`colour` in the below example) is set to each item from the collection of values in turn, and each time this happens the indented block of code is executed again."
   ]
  },
  {
   "cell_type": "code",
   "execution_count": null,
   "metadata": {
    "collapsed": true
   },
   "outputs": [],
   "source": [
    "all_colours = ['red', 'blue', 'green']\n",
    "for colour in all_colours:\n",
    "    print(colour)"
   ]
  },
  {
   "cell_type": "markdown",
   "metadata": {},
   "source": [
    "### Files\n",
    "\n",
    "To read from a file, your program needs to open the file and then read the contents of the file. You can read the entire contents of the file at once, or read the file line by line. The **`with`** statement makes sure the file is closed properly when the program has finished accessing the file.\n",
    "\n",
    "\n",
    "Passing the `'w'` argument to `open()` tells Python you want to write to the file. Be careful; this will erase the contents of the file if it already exists. Passing the `'a'` argument tells Python you want to append to the end of an existing file."
   ]
  },
  {
   "cell_type": "code",
   "execution_count": 1,
   "metadata": {},
   "outputs": [
    {
     "name": "stdout",
     "output_type": "stream",
     "text": [
      "gene\tchrom\tstart\tend\n",
      "BRCA2\t13\t32889611\t32973805\n",
      "TNFAIP3\t6\t138188351\t138204449\n",
      "TCF7\t5\t133450402\t133487556\n"
     ]
    }
   ],
   "source": [
    "# reading from file\n",
    "with open(\"data/genes.txt\") as f:\n",
    "    for line in f:\n",
    "        print(line.strip())"
   ]
  },
  {
   "cell_type": "code",
   "execution_count": 4,
   "metadata": {},
   "outputs": [
    {
     "name": "stdout",
     "output_type": "stream",
     "text": [
      "gene chrom end\n",
      "BRCA2 13 32973805\n",
      "TNFAIP3 6 138204449\n",
      "TCF7 5 133487556\n"
     ]
    }
   ],
   "source": [
    "# printing only the gene name and the chromosome columns\n",
    "with open(\"data/genes.txt\") as f:\n",
    "    for line in f:\n",
    "        data = line.strip().split(\"\\t\")\n",
    "        #data = line.strip().split()\n",
    "        print(data[0], data[1], data[-1])"
   ]
  },
  {
   "cell_type": "markdown",
   "metadata": {},
   "source": [
    "### Conditional execution\n",
    "\n",
    "A conditional **`if/elif`** statement is used to specify that some block of code should only be executed if a conditional expression evaluates to `True`, there can be a final **`else`** statement to do something if all of the conditions are `False`.\n",
    "Python uses **indentation** to show which statements are in a block of code. "
   ]
  },
  {
   "cell_type": "code",
   "execution_count": null,
   "metadata": {
    "collapsed": true
   },
   "outputs": [],
   "source": [
    "# printing only the gene name and its position for chromosome 6\n",
    "with open(\"data/genes.txt\") as f:\n",
    "    for line in f:\n",
    "        data = line.strip().split()\n",
    "        if data[1] == '6':\n",
    "            print(data[0], data[2], data[3])"
   ]
  },
  {
   "cell_type": "markdown",
   "metadata": {},
   "source": [
    "### Getting help\n",
    "\n",
    "[The Python 3 Standard Library](https://docs.python.org/3/library/index.html) is the reference documentation of all libraries included in Python as well as built-in functions and data types.\n",
    "\n",
    "\n",
    "The Basic Python [Cheat Sheet](cheat_sheet_basic_python.ipynb) is a quick summary based on the course ['Introduction to solving biological problems with Python'](http://pycam.github.io/)."
   ]
  },
  {
   "cell_type": "code",
   "execution_count": 5,
   "metadata": {},
   "outputs": [
    {
     "name": "stdout",
     "output_type": "stream",
     "text": [
      "Help on built-in function len in module builtins:\n",
      "\n",
      "len(...)\n",
      "    len(object)\n",
      "    \n",
      "    Return the number of items of a sequence or collection.\n",
      "\n",
      "Help on method_descriptor:\n",
      "\n",
      "extend(...)\n",
      "    L.extend(iterable) -> None -- extend list by appending elements from the iterable\n",
      "\n"
     ]
    }
   ],
   "source": [
    "help(len)          # help on built-in function\n",
    "help(list.extend)  # help on list function"
   ]
  },
  {
   "cell_type": "code",
   "execution_count": 14,
   "metadata": {},
   "outputs": [
    {
     "ename": "SyntaxError",
     "evalue": "invalid syntax (<ipython-input-14-3b82ec228b4c>, line 2)",
     "output_type": "error",
     "traceback": [
      "\u001b[0;36m  File \u001b[0;32m\"<ipython-input-14-3b82ec228b4c>\"\u001b[0;36m, line \u001b[0;32m2\u001b[0m\n\u001b[0;31m    print(\"a string\".strip().(1))\u001b[0m\n\u001b[0m                             ^\u001b[0m\n\u001b[0;31mSyntaxError\u001b[0m\u001b[0;31m:\u001b[0m invalid syntax\n"
     ]
    }
   ],
   "source": [
    "help(\"a string\".strip)"
   ]
  },
  {
   "cell_type": "markdown",
   "metadata": {},
   "source": [
    "To get help for the `split()` function, you can look at the [Python documentation]((https://docs.python.org/3/library/index.html)) and search for [`str.split()`](https://docs.python.org/3/library/stdtypes.html?highlight=split#str.split)"
   ]
  },
  {
   "cell_type": "code",
   "execution_count": 19,
   "metadata": {},
   "outputs": [
    {
     "name": "stdout",
     "output_type": "stream",
     "text": [
      "string\n"
     ]
    }
   ],
   "source": [
    "help(\"a string\".split)\n",
    "#print(\"a string\".split()[1])"
   ]
  },
  {
   "cell_type": "code",
   "execution_count": null,
   "metadata": {
    "collapsed": true
   },
   "outputs": [],
   "source": [
    "# help within jupyter\n",
    "str.split?"
   ]
  },
  {
   "cell_type": "markdown",
   "metadata": {},
   "source": [
    "## Exercise 1.1.3\n",
    "\n",
    "We are going to look at a [Gapminder](https://www.gapminder.org/) dataset, made famous by Hans Rosling from his Ted presentation [‘The best stats you’ve ever seen’](http://www.ted.com/talks/hans_rosling_shows_the_best_stats_you_ve_ever_seen).\n",
    "\n",
    "- Read data from the file `data/gapminder.csv`.\n",
    "- Find which European countries have the largest population in 1952 and 2007."
   ]
  },
  {
   "cell_type": "code",
   "execution_count": 114,
   "metadata": {},
   "outputs": [
    {
     "name": "stdout",
     "output_type": "stream",
     "text": [
      "69145952 Germany\n",
      "country,continent,year,lifeExp,pop,gdpPercap\n",
      "\n"
     ]
    }
   ],
   "source": [
    "max_pop_1952 = 0\n",
    "\n",
    "with open(\"data/gapminder.csv\") as f:\n",
    "    header = next(f)  # comment out header \n",
    "    #print(header) \n",
    "    for line in f:\n",
    "\n",
    "        data = line.strip().split(',')\n",
    "        country = data[0]\n",
    "        continent = data[1]\n",
    "        year = int(data[2])\n",
    "        pop = int(data[-2])\n",
    "        #print(country, continent, year, pop)\n",
    "        \n",
    "        if continent == \"Europe\" and year == 1952:\n",
    "            if pop > max_pop_1952:\n",
    "                max_pop_1952 = pop\n",
    "                max_country_1952 = country\n",
    "                \n",
    "            #print(max_pop_1952, max_country_1952)\n",
    "print(max_pop_1952, max_country_1952) "
   ]
  },
  {
   "cell_type": "code",
   "execution_count": 104,
   "metadata": {},
   "outputs": [
    {
     "name": "stdout",
     "output_type": "stream",
     "text": [
      "entries no 141\n",
      "556263527\n",
      "['China', 'Asia', '1952', '44', '556263527', '400.448611']\n"
     ]
    }
   ],
   "source": [
    "data_year_1952=[]\n",
    "data_year_2007=[]\n",
    "# reading from file\n",
    "with open(\"data/gapminder.csv\") as f:\n",
    "    for line in f:\n",
    "        data = line.strip().split(',')\n",
    "        if data[2] == '1952':\n",
    "            data_year_1952.append(data)\n",
    "        if data[2] == '2007':\n",
    "            data_year_2007.append(data) \n",
    "\n",
    "print('entries no',len(data_year_1952))\n",
    "pop_list=[]\n",
    "for i in range(len(data_year_1952)):\n",
    "    pop_list.append(int(data_year_1952[i][4]))\n",
    "\n",
    "print(max(pop_list))\n",
    "\n",
    "with open(\"data/gapminder.csv\") as f:\n",
    "    for line in f:\n",
    "        data = line.strip().split(',')\n",
    "        if data[4] == str(max(pop_list)):\n",
    "            print(data)\n",
    "\n",
    "\n",
    "\n",
    "\n",
    "        "
   ]
  },
  {
   "cell_type": "code",
   "execution_count": 107,
   "metadata": {},
   "outputs": [
    {
     "name": "stdout",
     "output_type": "stream",
     "text": [
      "entries no 141\n",
      "9939217\n",
      "8425333\n",
      "['Afghanistan', 'Asia', '1952', '28.801', '8425333', '779.4453145']\n",
      "9279525\n",
      "['Algeria', 'Africa', '1952', '43.077', '9279525', '2449.008185']\n",
      "17876956\n",
      "['Argentina', 'Americas', '1952', '62.485', '17876956', '5911.315053']\n",
      "46886859\n",
      "['Bangladesh', 'Asia', '1952', '37.484', '46886859', '684.2441716']\n",
      "56602560\n",
      "['Brazil', 'Americas', '1952', '50.917', '56602560', '2108.944355']\n",
      "556263527\n",
      "['China', 'Asia', '1952', '44', '556263527', '400.448611']\n"
     ]
    }
   ],
   "source": [
    "data_year_1952=[]\n",
    "with open(\"data/gapminder.csv\") as f:\n",
    "    for line in f:\n",
    "        data = line.strip().split(',')\n",
    "        if data[2] == '1952':\n",
    "            data_year_1952.append(data)\n",
    "\n",
    "\n",
    "print('entries no',len(data_year_1952))\n",
    "pop_list=[]\n",
    "for i in range(len(data_year_1952)):\n",
    "    pop_list.append(data_year_1952[i][4])\n",
    "print(max(pop_list))\n",
    "\n",
    "big = 0\n",
    "for i in range(len(data_year_1952)):\n",
    "    if int(data_year_1952[i][4]) > int(big):\n",
    "        big = data_year_1952[i][4]\n",
    "        big_index = i\n",
    "        print(big)\n",
    "        print(data_year_1952[big_index])\n",
    "\n",
    "    "
   ]
  },
  {
   "cell_type": "markdown",
   "metadata": {
    "slideshow": {
     "slide_type": "-"
    }
   },
   "source": [
    "## Next session\n",
    "\n",
    "Go to our next notebook: [Session 1.2: Using existing python modules to explore data in files](12_python_data.ipynb)"
   ]
  }
 ],
 "metadata": {
  "celltoolbar": "Slideshow",
  "kernelspec": {
   "display_name": "Python 3",
   "language": "python",
   "name": "python3"
  },
  "language_info": {
   "codemirror_mode": {
    "name": "ipython",
    "version": 3
   },
   "file_extension": ".py",
   "mimetype": "text/x-python",
   "name": "python",
   "nbconvert_exporter": "python",
   "pygments_lexer": "ipython3",
   "version": "3.4.3"
  }
 },
 "nbformat": 4,
 "nbformat_minor": 1
}
