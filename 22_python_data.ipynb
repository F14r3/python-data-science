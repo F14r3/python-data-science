{
 "cells": [
  {
   "cell_type": "markdown",
   "metadata": {},
   "source": [
    "# Data science in Python\n",
    "\n",
    "## Session 2.2: Data visualisation with Matplotlib\n",
    "\n",
    "- [Matplotlib](#Matplotlib)\n",
    "- [Exercise 2.2.1](#Exercise-2.2.1)"
   ]
  },
  {
   "cell_type": "markdown",
   "metadata": {},
   "source": [
    "## Matplotlib\n",
    "\n",
    "[matplotlib](http://matplotlib.org/) is probably the single most used Python package for graphics. It provides both a very quick way to visualize data from Python and publication-quality figures in many formats. It is also highly customizable, allowing you to create [rich visualizations](http://droettboom.com/jhepc2018-judge-packet/) of complex data.\n",
    "\n",
    "matplotlib.pyplot is a collection of command style functions that make matplotlib work like MATLAB. Each pyplot function makes some change to a figure: e.g., creates a figure, creates a plotting area in a figure, plots some lines in a plotting area, decorates the plot with labels, etc. \n",
    "\n",
    "Let's start with a very simple plot. First we set the `%matplotlib inline` option, which tells the notebook to embed all plots as static images. Then we call the `.plot()` command on a list of integers to create the plot. Finally, we use the `.show()` method to render the plot and embed it underneath the code block."
   ]
  },
  {
   "cell_type": "code",
   "execution_count": null,
   "metadata": {},
   "outputs": [],
   "source": [
    "%matplotlib inline\n",
    "\n",
    "import matplotlib.pyplot as mpyplot\n",
    "mpyplot.plot([1,2,3,4])\n",
    "mpyplot.show()"
   ]
  },
  {
   "cell_type": "markdown",
   "metadata": {},
   "source": [
    "After we create a plot, we can use the `.xlabel()` and `.ylabel()` commands to decorate it with axis legends, and add a title using the `.title()` command"
   ]
  },
  {
   "cell_type": "code",
   "execution_count": null,
   "metadata": {},
   "outputs": [],
   "source": [
    "mpyplot.plot([1,2,3,4])\n",
    "mpyplot.xlabel(\"X axis label\")\n",
    "mpyplot.ylabel(\"Y axis label\")\n",
    "mpyplot.title(\"Plot title\")\n",
    "mpyplot.show()"
   ]
  },
  {
   "cell_type": "markdown",
   "metadata": {},
   "source": [
    "`plot()` is a versatile command, and will take an arbitrary number of arguments. For example, to plot x versus y, you can issue the command:"
   ]
  },
  {
   "cell_type": "code",
   "execution_count": null,
   "metadata": {},
   "outputs": [],
   "source": [
    "mpyplot.plot([1,2,3,4], [1,4,9,16])"
   ]
  },
  {
   "cell_type": "markdown",
   "metadata": {},
   "source": [
    "For every x, y pair of arguments, there is an **optional third argument** which is the format string that indicates the color and line type of the plot. The letters and symbols of the format string are from MATLAB, and you concatenate a color string with a line style string. The default format string is `b-`, which is a solid blue line. For example, to plot the above with red circles, you would chose `ro`."
   ]
  },
  {
   "cell_type": "code",
   "execution_count": null,
   "metadata": {},
   "outputs": [],
   "source": [
    "import matplotlib.pyplot as mpyplot\n",
    "mpyplot.plot([1,2,3,4], [1,4,9,16], 'ro')\n",
    "mpyplot.axis([0, 6, 0, 20])\n",
    "mpyplot.show()"
   ]
  },
  {
   "cell_type": "markdown",
   "metadata": {},
   "source": [
    "These formatting options can be especially useful when displaying data from different sources on the same plot. Once the plot is created, additional lines can be added by calling the `.plot()` command on the same plot object, but specifying different options."
   ]
  },
  {
   "cell_type": "code",
   "execution_count": null,
   "metadata": {},
   "outputs": [],
   "source": [
    "import matplotlib.pyplot as mpyplot\n",
    "year = [1960, 1970, 1980, 1990, 2000]\n",
    "rainfall_Manchester = [200, 190, 160, 185, 170]\n",
    "rainfall_London = [160, 155, 140, 145, 140]\n",
    "mpyplot.plot(year, rainfall_Manchester, 'b-')\n",
    "mpyplot.plot(year, rainfall_London, 'r--')\n",
    "mpyplot.show()"
   ]
  },
  {
   "cell_type": "markdown",
   "metadata": {},
   "source": [
    "With more than one dataset on the same plot, we often need to add a legend to the plot. This can be done by passing the `label` argument to the `.plot()` command, and then calling the `legend()` command on the plot."
   ]
  },
  {
   "cell_type": "code",
   "execution_count": null,
   "metadata": {},
   "outputs": [],
   "source": [
    "import matplotlib.pyplot as mpyplot\n",
    "year = [1960, 1970, 1980, 1990, 2000]\n",
    "rainfall_Manchester = [200, 190, 160, 185, 170]\n",
    "rainfall_London = [160, 155, 140, 145, 140]\n",
    "mpyplot.plot(year, rainfall_Manchester, 'b-', label = 'Manchester')\n",
    "mpyplot.plot(year, rainfall_London, 'r--', label = 'London')\n",
    "mpyplot.legend()\n",
    "mpyplot.show()"
   ]
  },
  {
   "cell_type": "markdown",
   "metadata": {},
   "source": [
    "Once we have made a plot, we can write it to disk using the `.savefig()` command. This will infer the file format from the ending of the file name e.g. \"myplot.svg\" will write in svg format, \"myplot.pdf\" will write in pdf format etc. **Note: the range of file types that can be written may vary between different operating systems.**"
   ]
  },
  {
   "cell_type": "code",
   "execution_count": null,
   "metadata": {},
   "outputs": [],
   "source": [
    "import matplotlib.pyplot as mpyplot\n",
    "mpyplot.plot([1,2,3,4], [1,4,9,16])\n",
    "mpyplot.savefig(\"myplot.svg\")"
   ]
  },
  {
   "cell_type": "markdown",
   "metadata": {},
   "source": [
    "## Functions for specific plot types\n",
    "`matplotlib` has a few functions in the **`pyplot` module** that make creating common types of plots faster and more convenient because they automatically create a Figure and an Axes object. The most widely used are:\n",
    "\n",
    "- [mpyplot.bar](http://matplotlib.org/api/pyplot_api.html#matplotlib.pyplot.bar) – creates a bar chart.\n",
    "- [mpyplot.boxplot](http://matplotlib.org/api/pyplot_api.html#matplotlib.pyplot.boxplot) – makes a box and whisker plot.\n",
    "- [mpyplot.hist](http://matplotlib.org/api/pyplot_api.html#matplotlib.pyplot.hist) – makes a histogram.\n",
    "- [mpyplot.plot](http://matplotlib.org/api/pyplot_api.html#matplotlib.pyplot.plot) – creates a line plot.\n",
    "- [mpyplot.scatter](http://matplotlib.org/api/pyplot_api.html#matplotlib.pyplot.scatter) – makes a scatter plot.\n",
    "\n",
    "Calling any of these methods will automatically setup `Figure` and `Axes` objects, and draw the plot. Each of these methods has different parameters that can be passed in to modify the resulting plot. For example, let's plot a bar chart of the population size of different European capital cities:"
   ]
  },
  {
   "cell_type": "code",
   "execution_count": null,
   "metadata": {},
   "outputs": [],
   "source": [
    "import matplotlib.pyplot as mpyplot\n",
    "city = [\"Dublin\", \"Paris\", \"Madrid\", \"Berlin\", \"Brussels\"]\n",
    "population = [553165, 2206488, 3182981, 3711930, 1191604]\n",
    "mpyplot.bar(x = city, height = population)\n",
    "mpyplot.ylim(0,4000000)\n",
    "mpyplot.ylabel(\"Population size\")\n",
    "mpyplot.title(\"Population size of European capital cities\")\n",
    "mpyplot.show()"
   ]
  },
  {
   "cell_type": "markdown",
   "metadata": {},
   "source": [
    "A full list of functions and details of how to use them is available from the [Pyplot API documentation](https://matplotlib.org/api/_as_gen/matplotlib.pyplot.html)."
   ]
  },
  {
   "cell_type": "markdown",
   "metadata": {},
   "source": [
    "## Plotting directly from `Pandas` objects\n",
    "\n",
    "As seen in the previous session, it is possible to plot directly from Pandas. First, let's plot the GC content along a gene, using the state-based interface we have been using so far:"
   ]
  },
  {
   "cell_type": "code",
   "execution_count": null,
   "metadata": {},
   "outputs": [],
   "source": [
    "seq = 'ATGGTGCATCTGACTCCTGAGGAGAAGTCTGCCGTTACTGCCCTGTGGGGCAAGGTG'\n",
    "gc = [40.0, 60.0, 80.0, 60.0, 40.0, 60.0, 40.0, 40.0, 40.0, 60.0, \n",
    "      40.0, 60.0, 60.0, 60.0, 60.0, 60.0, 60.0, 60.0, 60.0, 60.0, \n",
    "      60.0, 40.0, 40.0, 40.0, 40.0, 40.0, 60.0, 60.0, 80.0, 80.0, \n",
    "      80.0, 60.0, 40.0, 40.0, 20.0, 40.0, 60.0, 80.0, 80.0, 80.0, \n",
    "      80.0, 60.0, 60.0, 60.0, 80.0, 80.0, 100.0, 80.0, 60.0, 60.0, \n",
    "      60.0, 40.0, 60.0]\n",
    "window_ids = range(len(gc))\n",
    "\n",
    "import matplotlib.pyplot as mpyplot\n",
    "mpyplot.plot(window_ids, gc, '--' )\n",
    "mpyplot.xlabel('5 bases window id along the sequence')\n",
    "mpyplot.ylabel('%GC')\n",
    "mpyplot.title('GC plot for sequence\\n' + seq)\n",
    "mpyplot.show()"
   ]
  },
  {
   "cell_type": "markdown",
   "metadata": {},
   "source": [
    "The `plot()` method on Pandas DataFrame is a wrapper around `matplotlib.pyplot.plot()`. We can therefore plot the same graph directly from a Pandas DataFrame:"
   ]
  },
  {
   "cell_type": "code",
   "execution_count": null,
   "metadata": {},
   "outputs": [],
   "source": [
    "import pandas\n",
    "gc_df = pandas.DataFrame(gc, columns=['gc'])\n",
    "gc_df.head()\n",
    "thisplot = gc_df.gc.plot(style='--')\n",
    "thisplot.set_xlabel('5 bases window id along the sequence')\n",
    "thisplot.set_ylabel('%GC')\n",
    "thisplot.set_title('GC plot for sequence\\n' + seq)"
   ]
  },
  {
   "cell_type": "markdown",
   "metadata": {},
   "source": [
    "**However**, it is important to appreciate the difference between using this method and the state-based interface. The state-based interface refers to the \"current\" plot, which is whatever is created from the most recent use of the `.plot()` command (as long as this isn't saved into a variable). In contrast, the Pandas example above creates a plot object first (`thisplot`), and the subsequent commands use an object-oriented interface to refer to this object specifically. This means that certain commands differ between the two. For example, to set the x-axis label you use the `.xlabel()` method for the state-based interface, but the `.set_xlabel()` method for the object-oriented interface."
   ]
  },
  {
   "cell_type": "markdown",
   "metadata": {},
   "source": [
    "## Exercise 2.2.1\n",
    "\n",
    "Re-use the GapMinder dataset to plot, in Jupyter using Matplotlib, from the world data the life expectancy against GDP per capita for 1952, 1977 and 2007 using a scatter plot, add title to your graph as well as a legend.\n",
    "\n",
    "Find the country with the highest GDP per Capita for 1952, 1977 and 2007.\n",
    "\n",
    "Re-write the function `gdp_stats_by_continent_and_year()` using Pandas."
   ]
  },
  {
   "cell_type": "markdown",
   "metadata": {},
   "source": [
    "## Next session\n",
    "\n",
    "Go to our next notebook: [Session 2.3: Biological data with BioPython](23_python_data.ipynb)"
   ]
  }
 ],
 "metadata": {
  "kernelspec": {
   "display_name": "Python 3",
   "language": "python",
   "name": "python3"
  },
  "language_info": {
   "codemirror_mode": {
    "name": "ipython",
    "version": 3
   },
   "file_extension": ".py",
   "mimetype": "text/x-python",
   "name": "python",
   "nbconvert_exporter": "python",
   "pygments_lexer": "ipython3",
   "version": "3.6.4"
  }
 },
 "nbformat": 4,
 "nbformat_minor": 1
}
