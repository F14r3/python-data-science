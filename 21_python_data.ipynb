{
 "cells": [
  {
   "cell_type": "markdown",
   "metadata": {},
   "source": [
    "# Data science in Python\n",
    "\n",
    "- Course GitHub repo: https://github.com/pycam/python-data-science\n",
    "- Python website: https://www.python.org/ \n",
    "\n",
    "## Session 2.1: Data manipulation with Pandas\n",
    "\n"
   ]
  },
  {
   "cell_type": "code",
   "execution_count": 2,
   "metadata": {},
   "outputs": [
    {
     "data": {
      "text/html": [
       "<div>\n",
       "<style scoped>\n",
       "    .dataframe tbody tr th:only-of-type {\n",
       "        vertical-align: middle;\n",
       "    }\n",
       "\n",
       "    .dataframe tbody tr th {\n",
       "        vertical-align: top;\n",
       "    }\n",
       "\n",
       "    .dataframe thead th {\n",
       "        text-align: right;\n",
       "    }\n",
       "</style>\n",
       "<table border=\"1\" class=\"dataframe\">\n",
       "  <thead>\n",
       "    <tr style=\"text-align: right;\">\n",
       "      <th></th>\n",
       "      <th>chrom</th>\n",
       "      <th>source</th>\n",
       "      <th>type</th>\n",
       "      <th>start</th>\n",
       "      <th>end</th>\n",
       "      <th>score</th>\n",
       "      <th>strand</th>\n",
       "      <th>phase</th>\n",
       "      <th>attributes</th>\n",
       "    </tr>\n",
       "  </thead>\n",
       "  <tbody>\n",
       "    <tr>\n",
       "      <th>0</th>\n",
       "      <td>1</td>\n",
       "      <td>NCBI</td>\n",
       "      <td>biological_region</td>\n",
       "      <td>50813509</td>\n",
       "      <td>50814248</td>\n",
       "      <td>.</td>\n",
       "      <td>+</td>\n",
       "      <td>.</td>\n",
       "      <td>external_name=C3H-79G23 (end);logic_name=mouse...</td>\n",
       "    </tr>\n",
       "    <tr>\n",
       "      <th>1</th>\n",
       "      <td>1</td>\n",
       "      <td>NCBI</td>\n",
       "      <td>biological_region</td>\n",
       "      <td>58360717</td>\n",
       "      <td>58361089</td>\n",
       "      <td>.</td>\n",
       "      <td>+</td>\n",
       "      <td>.</td>\n",
       "      <td>external_name=RP23-178M1 (start);logic_name=mo...</td>\n",
       "    </tr>\n",
       "    <tr>\n",
       "      <th>2</th>\n",
       "      <td>1</td>\n",
       "      <td>havana</td>\n",
       "      <td>exon</td>\n",
       "      <td>133282117</td>\n",
       "      <td>133282266</td>\n",
       "      <td>.</td>\n",
       "      <td>+</td>\n",
       "      <td>.</td>\n",
       "      <td>Parent=transcript:ENSMUST00000189598;Name=ENSM...</td>\n",
       "    </tr>\n",
       "    <tr>\n",
       "      <th>3</th>\n",
       "      <td>1</td>\n",
       "      <td>ensembl_havana</td>\n",
       "      <td>exon</td>\n",
       "      <td>156432204</td>\n",
       "      <td>156432349</td>\n",
       "      <td>.</td>\n",
       "      <td>-</td>\n",
       "      <td>.</td>\n",
       "      <td>Parent=transcript:ENSMUST00000189661;Name=ENSM...</td>\n",
       "    </tr>\n",
       "    <tr>\n",
       "      <th>4</th>\n",
       "      <td>1</td>\n",
       "      <td>ensembl_havana</td>\n",
       "      <td>CDS</td>\n",
       "      <td>157535361</td>\n",
       "      <td>157535512</td>\n",
       "      <td>.</td>\n",
       "      <td>+</td>\n",
       "      <td>2</td>\n",
       "      <td>ID=CDS:ENSMUSP00000107329;Parent=transcript:EN...</td>\n",
       "    </tr>\n",
       "  </tbody>\n",
       "</table>\n",
       "</div>"
      ],
      "text/plain": [
       "   chrom          source               type      start        end score  \\\n",
       "0      1            NCBI  biological_region   50813509   50814248     .   \n",
       "1      1            NCBI  biological_region   58360717   58361089     .   \n",
       "2      1          havana               exon  133282117  133282266     .   \n",
       "3      1  ensembl_havana               exon  156432204  156432349     .   \n",
       "4      1  ensembl_havana                CDS  157535361  157535512     .   \n",
       "\n",
       "  strand phase                                         attributes  \n",
       "0      +     .  external_name=C3H-79G23 (end);logic_name=mouse...  \n",
       "1      +     .  external_name=RP23-178M1 (start);logic_name=mo...  \n",
       "2      +     .  Parent=transcript:ENSMUST00000189598;Name=ENSM...  \n",
       "3      -     .  Parent=transcript:ENSMUST00000189661;Name=ENSM...  \n",
       "4      +     2  ID=CDS:ENSMUSP00000107329;Parent=transcript:EN...  "
      ]
     },
     "execution_count": 2,
     "metadata": {},
     "output_type": "execute_result"
    }
   ],
   "source": [
    "import pandas\n",
    "mouse_data = pandas.read_csv('data/mouse.gff', sep='\\t')\n",
    "mouse_data.head()"
   ]
  },
  {
   "cell_type": "code",
   "execution_count": 3,
   "metadata": {},
   "outputs": [
    {
     "name": "stdout",
     "output_type": "stream",
     "text": [
      "<class 'pandas.core.frame.DataFrame'>\n",
      "RangeIndex: 10000 entries, 0 to 9999\n",
      "Data columns (total 9 columns):\n",
      "chrom         10000 non-null int64\n",
      "source        10000 non-null object\n",
      "type          10000 non-null object\n",
      "start         10000 non-null int64\n",
      "end           10000 non-null int64\n",
      "score         10000 non-null object\n",
      "strand        10000 non-null object\n",
      "phase         10000 non-null object\n",
      "attributes    10000 non-null object\n",
      "dtypes: int64(3), object(6)\n",
      "memory usage: 703.2+ KB\n"
     ]
    }
   ],
   "source": [
    "mouse_data.info()"
   ]
  },
  {
   "cell_type": "markdown",
   "metadata": {},
   "source": [
    "## Next session\n",
    "\n",
    "Go to our next notebook: [Session 2.2: Data visualisation with Matplotlib](22_python_data.ipynb)"
   ]
  }
 ],
 "metadata": {
  "kernelspec": {
   "display_name": "Python 3",
   "language": "python",
   "name": "python3"
  },
  "language_info": {
   "codemirror_mode": {
    "name": "ipython",
    "version": 3
   },
   "file_extension": ".py",
   "mimetype": "text/x-python",
   "name": "python",
   "nbconvert_exporter": "python",
   "pygments_lexer": "ipython3",
   "version": "3.6.4"
  }
 },
 "nbformat": 4,
 "nbformat_minor": 2
}
