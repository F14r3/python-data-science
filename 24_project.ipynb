{
 "cells": [
  {
   "cell_type": "markdown",
   "metadata": {},
   "source": [
    "# Data science project in Python"
   ]
  },
  {
   "cell_type": "code",
   "execution_count": null,
   "metadata": {},
   "outputs": [],
   "source": [
    "import pandas\n",
    "from Bio import SeqIO\n",
    "from Bio import Entrez\n",
    "from Bio.SeqUtils import GC, molecular_weight"
   ]
  },
  {
   "cell_type": "code",
   "execution_count": null,
   "metadata": {},
   "outputs": [],
   "source": [
    "def get_gc_and_mw_from_gbid(id='NM_177676.6'):\n",
    "    Entrez.email = 'A.N.Other@example.com' # Always tell NCBI who you are\n",
    "    handle = Entrez.efetch(db=\"nucleotide\", id=id, rettype=\"gb\")\n",
    "    seq_record = SeqIO.read(handle, \"gb\")\n",
    "    handle.close()\n",
    "    return GC(seq_record.seq), molecular_weight(seq_record.seq)"
   ]
  },
  {
   "cell_type": "code",
   "execution_count": null,
   "metadata": {},
   "outputs": [],
   "source": [
    "print(get_gc_and_mw_from_gbid('NM_177676.6'))"
   ]
  },
  {
   "cell_type": "code",
   "execution_count": null,
   "metadata": {},
   "outputs": [],
   "source": [
    "def get_gc_and_mw_from_gbids(df_ids):\n",
    "    gcs = []\n",
    "    mws = []\n",
    "    for i in df_ids:\n",
    "        gc, mw = get_gc_and_mw_from_gbid(i)\n",
    "        gcs.append(gc)\n",
    "        mws.append(mw)\n",
    "    return gcs, mws"
   ]
  },
  {
   "cell_type": "code",
   "execution_count": null,
   "metadata": {},
   "outputs": [],
   "source": [
    "mouse = pandas.read_csv('data/ref_GRCm38.p4_top_level.10000features.randomWithGBid.gff3', sep='\\t')\n",
    "mouse.head()"
   ]
  },
  {
   "cell_type": "code",
   "execution_count": null,
   "metadata": {},
   "outputs": [],
   "source": [
    "mouse.dropna(inplace=True)\n",
    "print(mouse.type.unique())"
   ]
  },
  {
   "cell_type": "code",
   "execution_count": null,
   "metadata": {},
   "outputs": [],
   "source": [
    "exon_mouse = mouse[mouse.type=='exon']"
   ]
  },
  {
   "cell_type": "code",
   "execution_count": null,
   "metadata": {},
   "outputs": [],
   "source": [
    "exon_mouse.head()"
   ]
  },
  {
   "cell_type": "code",
   "execution_count": null,
   "metadata": {},
   "outputs": [],
   "source": [
    "small_exon_mouse = exon_mouse.iloc[0:9,]"
   ]
  },
  {
   "cell_type": "code",
   "execution_count": null,
   "metadata": {},
   "outputs": [],
   "source": [
    "#small_exon_mouse.insert(len(small_exon_mouse.columns), 'gc', "
   ]
  },
  {
   "cell_type": "code",
   "execution_count": null,
   "metadata": {},
   "outputs": [],
   "source": [
    "small_exon_mouse['gc'], small_exon_mouse['mw'] = get_gc_and_mw_from_gbids(small_exon_mouse['gbID'])"
   ]
  },
  {
   "cell_type": "code",
   "execution_count": null,
   "metadata": {},
   "outputs": [],
   "source": [
    "small_exon_mouse.head()"
   ]
  },
  {
   "cell_type": "code",
   "execution_count": null,
   "metadata": {},
   "outputs": [],
   "source": [
    "%matplotlib inline\n",
    "small_exon_mouse.gc.plot.hist()"
   ]
  },
  {
   "cell_type": "code",
   "execution_count": null,
   "metadata": {},
   "outputs": [],
   "source": [
    "human = pandas.read_csv('data/ref_GRCh38.p12_top_level.10000features.randomWithGBid.gff3', sep='\\t')\n",
    "human.head()"
   ]
  },
  {
   "cell_type": "code",
   "execution_count": null,
   "metadata": {},
   "outputs": [],
   "source": [
    "zebrafish = pandas.read_csv('data/ref_GRCz11_top_level.10000features.randomWithGBid.gff3', sep='\\t')\n",
    "zebrafish.head()"
   ]
  },
  {
   "cell_type": "code",
   "execution_count": null,
   "metadata": {},
   "outputs": [],
   "source": [
    "panda = pandas.read_csv('data/ref_AilMel_1.0_top_level.10000features.randomWithGBid.gff3', sep='\\t')\n",
    "panda.head()"
   ]
  }
 ],
 "metadata": {
  "kernelspec": {
   "display_name": "Python 3",
   "language": "python",
   "name": "python3"
  },
  "language_info": {
   "codemirror_mode": {
    "name": "ipython",
    "version": 3
   },
   "file_extension": ".py",
   "mimetype": "text/x-python",
   "name": "python",
   "nbconvert_exporter": "python",
   "pygments_lexer": "ipython3",
   "version": "3.6.4"
  }
 },
 "nbformat": 4,
 "nbformat_minor": 2
}
