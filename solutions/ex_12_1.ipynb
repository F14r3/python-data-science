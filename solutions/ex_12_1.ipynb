{
 "cells": [
  {
   "cell_type": "markdown",
   "metadata": {},
   "source": [
    "# Solution to exercise 1.2.1\n",
    "\n",
    "- Calculate the average GDP per capita per country in Europe in 1962, its median and standard deviation using `data/gapminder.csv` data; and compare these figures with those from Americas."
   ]
  },
  {
   "cell_type": "code",
   "execution_count": null,
   "metadata": {},
   "outputs": [],
   "source": [
    "import statistics as stats\n",
    "eu_gdppercap_1962 = []\n",
    "americas_gdppercap_1962 = []\n",
    "with open('../data/gapminder.csv') as f:\n",
    "    for line in f:\n",
    "        data = line.strip().split(',')\n",
    "        if data[2] == \"1962\":\n",
    "            if data[1] == \"Europe\":\n",
    "                eu_gdppercap_1962.append(float(data[5]))\n",
    "            if data[1] == 'Americas':\n",
    "                americas_gdppercap_1962.append(float(data[5]))\n",
    "                \n",
    "\n",
    "print('European GDP per Capita in 1962')\n",
    "print(eu_gdppercap_1962)\n",
    "print('average:', stats.mean(eu_gdppercap_1962))\n",
    "print('median:', stats.median(eu_gdppercap_1962))\n",
    "print('standard deviation:', stats.stdev(eu_gdppercap_1962))\n",
    "\n",
    "print('American GDP per Capita in 1962')\n",
    "print(americas_gdppercap_1962)\n",
    "print('average:', stats.mean(americas_gdppercap_1962))\n",
    "print('median:', stats.median(americas_gdppercap_1962))\n",
    "print('standard deviation:', stats.stdev(americas_gdppercap_1962))"
   ]
  }
 ],
 "metadata": {
  "kernelspec": {
   "display_name": "Python 3",
   "language": "python",
   "name": "python3"
  },
  "language_info": {
   "codemirror_mode": {
    "name": "ipython",
    "version": 3
   },
   "file_extension": ".py",
   "mimetype": "text/x-python",
   "name": "python",
   "nbconvert_exporter": "python",
   "pygments_lexer": "ipython3",
   "version": "3.6.4"
  }
 },
 "nbformat": 4,
 "nbformat_minor": 2
}
