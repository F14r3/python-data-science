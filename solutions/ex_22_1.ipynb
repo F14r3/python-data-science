{
 "cells": [
  {
   "cell_type": "markdown",
   "metadata": {},
   "source": [
    "# Solution to exercise 2.2.1\n",
    "\n",
    "Re-use the GapMinder dataset to plot, in Jupyter using Matplotlib, from the world data the life expectancy against GDP per capita for 1952, 1977 and 2007 using a scatter plot, add title to your graph as well as a legend.\n",
    "\n",
    "Find the country with the highest GDP per Capita for 1952, 1977 and 2007.\n",
    "\n",
    "Re-write the function `gdp_stats_by_continent_and_year()` written yesterday using Pandas."
   ]
  },
  {
   "cell_type": "code",
   "execution_count": null,
   "metadata": {},
   "outputs": [],
   "source": [
    "%matplotlib inline\n",
    "\n",
    "import pandas\n",
    "import os\n",
    "import matplotlib.pyplot as mplot\n",
    "\n",
    "gapminder_data = pandas.read_csv(os.path.join('..', 'data', 'gapminder.csv'))\n",
    "#print(gapminder_data.year.unique())\n",
    "gapminder_1952 = gapminder_data[gapminder_data.year == 1952]\n",
    "gapminder_1977 = gapminder_data[gapminder_data.year == 1977]\n",
    "gapminder_2007 = gapminder_data[gapminder_data.year == 2007]\n",
    "#print(gapminder_1957.lifeExp)\n",
    "\n",
    "# scatter plots\n",
    "mplot.xlabel('Life Expectancy')\n",
    "mplot.ylabel('GDP per Capita')\n",
    "mplot.title('GapMinder world data over 50 years')\n",
    "mplot.scatter(gapminder_1952.lifeExp, gapminder_1952.gdpPercap, c='g', label='1952')\n",
    "mplot.scatter(gapminder_1977.lifeExp, gapminder_1977.gdpPercap, c='b', label='1977')\n",
    "mplot.scatter(gapminder_2007.lifeExp, gapminder_2007.gdpPercap, c='r', label='2007')\n",
    "mplot.legend()\n",
    "mplot.grid(True)\n",
    "mplot.show()\n",
    "\n",
    "# find the country with the highest GDP per Capita\n",
    "print(gapminder_1952[gapminder_1952.gdpPercap==gapminder_1952.gdpPercap.max()])\n",
    "print(gapminder_1977[gapminder_1977.gdpPercap==gapminder_1977.gdpPercap.max()])\n",
    "print(gapminder_2007[gapminder_2007.gdpPercap==gapminder_2007.gdpPercap.max()])"
   ]
  },
  {
   "cell_type": "code",
   "execution_count": null,
   "metadata": {},
   "outputs": [],
   "source": [
    "import os\n",
    "import pandas\n",
    "\n",
    "def gdp_stats_by_continent_and_year(continent='Europe', year=1952, gapminder_filepath=os.path.join('..', 'data', 'gapminder.csv')):\n",
    "    \"\"\"\n",
    "    Returns a dictionary of the average, median and standard deviation of GDP per capita \n",
    "    for all countries of the selected continent for a given year.\n",
    "\n",
    "    gapminder_filepath --- gapminder file path with multi-continent and multi-year data\n",
    "    continent --- continent for which data is extracted\n",
    "    year --- year for which data is extracted\n",
    "    \"\"\"\n",
    "    gapminder_data = pandas.read_csv(gapminder_filepath)\n",
    "    filtered_data = gapminder_data[(gapminder_data.year == year) & (gapminder_data.continent == continent)]\n",
    "    print(continent, 'GDP per Capita in', year)\n",
    "    return {'mean': filtered_data.gdpPercap.mean(), 'median': filtered_data.gdpPercap.median(), 'stdev': filtered_data.gdpPercap.std()}"
   ]
  },
  {
   "cell_type": "code",
   "execution_count": null,
   "metadata": {},
   "outputs": [],
   "source": [
    "print(gdp_stats_by_continent_and_year())"
   ]
  },
  {
   "cell_type": "code",
   "execution_count": null,
   "metadata": {},
   "outputs": [],
   "source": [
    "print(gdp_stats_by_continent_and_year('Americas'))"
   ]
  }
 ],
 "metadata": {
  "kernelspec": {
   "display_name": "Python 3",
   "language": "python",
   "name": "python3"
  },
  "language_info": {
   "codemirror_mode": {
    "name": "ipython",
    "version": 3
   },
   "file_extension": ".py",
   "mimetype": "text/x-python",
   "name": "python",
   "nbconvert_exporter": "python",
   "pygments_lexer": "ipython3",
   "version": "3.6.4"
  }
 },
 "nbformat": 4,
 "nbformat_minor": 2
}
