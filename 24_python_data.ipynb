{
 "cells": [
  {
   "cell_type": "markdown",
   "metadata": {},
   "source": [
    "# Data science in Python\n",
    "\n",
    "## Session 2.4: Data project report in Jupyter\n",
    "\n"
   ]
  },
  {
   "cell_type": "markdown",
   "metadata": {},
   "source": [
    "For the 4 species gff files store in the `data/` folder (mouse: `GRCm38.gff3`, human: `GRCh38.gff3`, zebrafish: `GRCz11.gff3` and panda: `AilMel.gff3`), load these files into a DataFrame, filter the exons, and calculate their length, their GC content as well as their molecular weigth. Store these calculations into new columns in their respective DataFrame. Plot these three values for the four species onto three graphs using a boxplot.\n",
    "\n",
    "Start by working with the mouse data for exploratory analysis, working through the problem steps by steps. Then, create a re-usable function to apply the analysis onto all datasets. Load all four datasets and apply the newly created function to calculate the new values. After having all DataFrames with the new three columns, visualise the data onto three boxplot graphs.\n",
    "\n",
    "Present the results into a Jupyter notebook, using Pandas, Matplotlib and Biopython. Write reusable and modular code as much as possible using functions.\n",
    "\n",
    "Have fun!"
   ]
  },
  {
   "cell_type": "code",
   "execution_count": 69,
   "metadata": {
    "collapsed": true
   },
   "outputs": [],
   "source": [
    "import pandas as pd\n",
    "from Bio import SeqIO\n",
    "from Bio import Entrez\n",
    "from Bio.SeqUtils import GC, molecular_weight"
   ]
  },
  {
   "cell_type": "code",
   "execution_count": 101,
   "metadata": {},
   "outputs": [],
   "source": [
    "def get_gc_and_mw_from_gbid(input_id):\n",
    "    Entrez.email = 'A.N.Other@example.com' # Always tell NCBI who you are\n",
    "    handle = Entrez.efetch(db=\"nucleotide\", id=input_id, rettype=\"gb\")\n",
    "    seq_record = SeqIO.read(handle, \"gb\")\n",
    "    #print('GC = {0}, MW = {1}'.format(GC(seq_record.seq), molecular_weight(seq_record.seq)))\n",
    "    return GC(seq_record.seq), molecular_weight(seq_record.seq)"
   ]
  },
  {
   "cell_type": "code",
   "execution_count": 103,
   "metadata": {},
   "outputs": [
    {
     "name": "stdout",
     "output_type": "stream",
     "text": [
      "<class 'pandas.core.frame.DataFrame'>\n",
      "Int64Index: 17 entries, 2 to 28\n",
      "Data columns (total 11 columns):\n",
      "seqid         17 non-null object\n",
      "source        17 non-null object\n",
      "type          17 non-null object\n",
      "start         17 non-null int64\n",
      "end           17 non-null int64\n",
      "score         17 non-null object\n",
      "strand        17 non-null object\n",
      "phase         17 non-null object\n",
      "attributes    17 non-null object\n",
      "gbid          17 non-null object\n",
      "length        17 non-null int64\n",
      "dtypes: int64(3), object(8)\n",
      "memory usage: 1.6+ KB\n",
      "None\n"
     ]
    },
    {
     "ename": "KeyError",
     "evalue": "0",
     "output_type": "error",
     "traceback": [
      "\u001b[0;31m---------------------------------------------------------------------------\u001b[0m",
      "\u001b[0;31mKeyError\u001b[0m                                  Traceback (most recent call last)",
      "\u001b[0;32m<ipython-input-103-b2fb285f6a15>\u001b[0m in \u001b[0;36m<module>\u001b[0;34m()\u001b[0m\n\u001b[1;32m     11\u001b[0m \u001b[0mprint\u001b[0m\u001b[0;34m(\u001b[0m\u001b[0mexons\u001b[0m\u001b[0;34m.\u001b[0m\u001b[0minfo\u001b[0m\u001b[0;34m(\u001b[0m\u001b[0;34m)\u001b[0m\u001b[0;34m)\u001b[0m\u001b[0;34m\u001b[0m\u001b[0m\n\u001b[1;32m     12\u001b[0m \u001b[0;34m\u001b[0m\u001b[0m\n\u001b[0;32m---> 13\u001b[0;31m \u001b[0mexons\u001b[0m\u001b[0;34m[\u001b[0m\u001b[0;34m\"GC\"\u001b[0m\u001b[0;34m]\u001b[0m\u001b[0;34m[\u001b[0m\u001b[0;36m0\u001b[0m\u001b[0;34m]\u001b[0m \u001b[0;34m=\u001b[0m \u001b[0mget_gc_and_mw_from_gbid\u001b[0m\u001b[0;34m(\u001b[0m\u001b[0mexons\u001b[0m\u001b[0;34m[\u001b[0m\u001b[0;34m\"gbid\"\u001b[0m\u001b[0;34m]\u001b[0m\u001b[0;34m[\u001b[0m\u001b[0;36m0\u001b[0m\u001b[0;34m]\u001b[0m\u001b[0;34m)\u001b[0m\u001b[0;34m\u001b[0m\u001b[0m\n\u001b[0m\u001b[1;32m     14\u001b[0m \u001b[0;34m\u001b[0m\u001b[0m\n\u001b[1;32m     15\u001b[0m \u001b[0;31m# GC_list=[]\u001b[0m\u001b[0;34m\u001b[0m\u001b[0;34m\u001b[0m\u001b[0m\n",
      "\u001b[0;32m/applications/local/python-venv/venv/lib/python3.4/site-packages/pandas/core/series.py\u001b[0m in \u001b[0;36m__getitem__\u001b[0;34m(self, key)\u001b[0m\n\u001b[1;32m    621\u001b[0m         \u001b[0mkey\u001b[0m \u001b[0;34m=\u001b[0m \u001b[0mcom\u001b[0m\u001b[0;34m.\u001b[0m\u001b[0m_apply_if_callable\u001b[0m\u001b[0;34m(\u001b[0m\u001b[0mkey\u001b[0m\u001b[0;34m,\u001b[0m \u001b[0mself\u001b[0m\u001b[0;34m)\u001b[0m\u001b[0;34m\u001b[0m\u001b[0m\n\u001b[1;32m    622\u001b[0m         \u001b[0;32mtry\u001b[0m\u001b[0;34m:\u001b[0m\u001b[0;34m\u001b[0m\u001b[0m\n\u001b[0;32m--> 623\u001b[0;31m             \u001b[0mresult\u001b[0m \u001b[0;34m=\u001b[0m \u001b[0mself\u001b[0m\u001b[0;34m.\u001b[0m\u001b[0mindex\u001b[0m\u001b[0;34m.\u001b[0m\u001b[0mget_value\u001b[0m\u001b[0;34m(\u001b[0m\u001b[0mself\u001b[0m\u001b[0;34m,\u001b[0m \u001b[0mkey\u001b[0m\u001b[0;34m)\u001b[0m\u001b[0;34m\u001b[0m\u001b[0m\n\u001b[0m\u001b[1;32m    624\u001b[0m \u001b[0;34m\u001b[0m\u001b[0m\n\u001b[1;32m    625\u001b[0m             \u001b[0;32mif\u001b[0m \u001b[0;32mnot\u001b[0m \u001b[0mis_scalar\u001b[0m\u001b[0;34m(\u001b[0m\u001b[0mresult\u001b[0m\u001b[0;34m)\u001b[0m\u001b[0;34m:\u001b[0m\u001b[0;34m\u001b[0m\u001b[0m\n",
      "\u001b[0;32m/applications/local/python-venv/venv/lib/python3.4/site-packages/pandas/core/indexes/base.py\u001b[0m in \u001b[0;36mget_value\u001b[0;34m(self, series, key)\u001b[0m\n\u001b[1;32m   2558\u001b[0m         \u001b[0;32mtry\u001b[0m\u001b[0;34m:\u001b[0m\u001b[0;34m\u001b[0m\u001b[0m\n\u001b[1;32m   2559\u001b[0m             return self._engine.get_value(s, k,\n\u001b[0;32m-> 2560\u001b[0;31m                                           tz=getattr(series.dtype, 'tz', None))\n\u001b[0m\u001b[1;32m   2561\u001b[0m         \u001b[0;32mexcept\u001b[0m \u001b[0mKeyError\u001b[0m \u001b[0;32mas\u001b[0m \u001b[0me1\u001b[0m\u001b[0;34m:\u001b[0m\u001b[0;34m\u001b[0m\u001b[0m\n\u001b[1;32m   2562\u001b[0m             \u001b[0;32mif\u001b[0m \u001b[0mlen\u001b[0m\u001b[0;34m(\u001b[0m\u001b[0mself\u001b[0m\u001b[0;34m)\u001b[0m \u001b[0;34m>\u001b[0m \u001b[0;36m0\u001b[0m \u001b[0;32mand\u001b[0m \u001b[0mself\u001b[0m\u001b[0;34m.\u001b[0m\u001b[0minferred_type\u001b[0m \u001b[0;32min\u001b[0m \u001b[0;34m[\u001b[0m\u001b[0;34m'integer'\u001b[0m\u001b[0;34m,\u001b[0m \u001b[0;34m'boolean'\u001b[0m\u001b[0;34m]\u001b[0m\u001b[0;34m:\u001b[0m\u001b[0;34m\u001b[0m\u001b[0m\n",
      "\u001b[0;32mpandas/_libs/index.pyx\u001b[0m in \u001b[0;36mpandas._libs.index.IndexEngine.get_value\u001b[0;34m()\u001b[0m\n",
      "\u001b[0;32mpandas/_libs/index.pyx\u001b[0m in \u001b[0;36mpandas._libs.index.IndexEngine.get_value\u001b[0;34m()\u001b[0m\n",
      "\u001b[0;32mpandas/_libs/index.pyx\u001b[0m in \u001b[0;36mpandas._libs.index.IndexEngine.get_loc\u001b[0;34m()\u001b[0m\n",
      "\u001b[0;32mpandas/_libs/hashtable_class_helper.pxi\u001b[0m in \u001b[0;36mpandas._libs.hashtable.Int64HashTable.get_item\u001b[0;34m()\u001b[0m\n",
      "\u001b[0;32mpandas/_libs/hashtable_class_helper.pxi\u001b[0m in \u001b[0;36mpandas._libs.hashtable.Int64HashTable.get_item\u001b[0;34m()\u001b[0m\n",
      "\u001b[0;31mKeyError\u001b[0m: 0"
     ]
    }
   ],
   "source": [
    "data = pd.read_csv('data/GRCm38.gff3',sep='\\t')\n",
    "# add length column\n",
    "data[\"length\"]=data[\"end\"]-data[\"start\"] + 1\n",
    "\n",
    "#print(data.info())\n",
    "data.dropna(inplace = True)\n",
    "\n",
    "# filter exons\n",
    "exons_full = data[data[\"type\"]== \"exon\" ]\n",
    "exons = data[data[\"type\"]== \"exon\" ].loc[:30]\n",
    "print(exons.info())\n",
    "\n",
    "#exons[\"GC\"][0] = get_gc_and_mw_from_gbid(exons[\"gbid\"][0])\n",
    "\n",
    "GC_list=[]\n",
    "MW_list=[]\n",
    "\n",
    "gbId_list = exons[:]['gbid']\n",
    "\n",
    "for gb in gbId_list:\n",
    "    GC_list.append(get_gc_and_mw_from_gbid(gb)[0])\n",
    "    MW_list.append(get_gc_and_mw_from_gbid(gb)[1])\n",
    "    \n",
    "#print(GC_list)\n",
    "#     print(get_gc_and_mw_from_gbid(gb)[0])\n",
    "#print(exons[:1]['gbid'])\n",
    "#get_gc_and_mw_from_gbid(exons[:1]['gbid'])"
   ]
  },
  {
   "cell_type": "code",
   "execution_count": 97,
   "metadata": {},
   "outputs": [
    {
     "name": "stdout",
     "output_type": "stream",
     "text": [
      "           GC            MW            gbid  length\n",
      "2   52.097378  8.293107e+05     NM_177676.6     245\n",
      "3   57.063197  2.164587e+06  XM_017312883.1      79\n",
      "7   49.659864  3.169640e+05     XR_378454.2     127\n",
      "8   50.390277  8.345749e+06  XM_017314047.1     207\n",
      "9   56.730498  4.384230e+06  XM_017317334.1     144\n",
      "13  46.465753  5.642921e+05  XM_006532761.3      56\n",
      "14  55.591398  2.891971e+05     NM_027263.2      67\n",
      "15  45.536481  1.441759e+06  NM_001079690.1     112\n",
      "16  48.575111  2.157642e+06     NM_010078.3      66\n",
      "18  39.162791  3.328927e+05  XM_006512605.3      99\n",
      "19  56.192632  2.456914e+06     NM_182698.2     236\n",
      "21  48.838448  4.640921e+06  XM_017312594.1      92\n",
      "23  49.389396  1.999890e+06  NM_001286419.1     283\n",
      "24  38.499218  2.967117e+06  XR_001783656.1     199\n",
      "25  51.780822  2.266795e+05     XR_376954.1     683\n",
      "26  50.027005  2.285647e+06  XM_006510062.1    3430\n",
      "28  47.974709  1.565996e+06  XM_006527477.3     108\n"
     ]
    }
   ],
   "source": [
    "new_data= pd.DataFrame({\"gbid\": exons[:]['gbid'],\"length\" : exons[:]['length'], \"GC\" : GC_list, \"MW\" : MW_list})\n",
    "print(new_data)"
   ]
  },
  {
   "cell_type": "code",
   "execution_count": 99,
   "metadata": {},
   "outputs": [
    {
     "data": {
      "image/png": "[encoded data removed]",
      "text/plain": [
       "<matplotlib.figure.Figure at 0x7fe9c2a29c88>"
      ]
     },
     "metadata": {},
     "output_type": "display_data"
    }
   ],
   "source": [
    "%matplotlib inline\n",
    "\n",
    "import matplotlib.pyplot as mpyplot\n",
    "\n",
    "\n",
    "mpyplot.scatter(new_data['GC'], new_data['MW'],label='mouse')\n",
    "mpyplot.xlabel('GC')\n",
    "mpyplot.ylabel('MW')\n",
    "mpyplot.legend()\n",
    "mpyplot.grid(True)\n",
    "mpyplot.show()"
   ]
  },
  {
   "cell_type": "code",
   "execution_count": null,
   "metadata": {
    "collapsed": true
   },
   "outputs": [],
   "source": []
  },
  {
   "cell_type": "code",
   "execution_count": null,
   "metadata": {
    "collapsed": true
   },
   "outputs": [],
   "source": [
    "import pandas as pd\n",
    "from Bio import SeqIO\n",
    "from Bio.SeqUtils import GC"
   ]
  },
  {
   "cell_type": "code",
   "execution_count": null,
   "metadata": {
    "collapsed": true
   },
   "outputs": [],
   "source": [
    "data = pd.read_csv('data/GRCm38.gff3',sep='\\t')"
   ]
  },
  {
   "cell_type": "code",
   "execution_count": null,
   "metadata": {},
   "outputs": [],
   "source": [
    "data.info()\n",
    "# incomplete data for gbid gene bank id"
   ]
  },
  {
   "cell_type": "code",
   "execution_count": null,
   "metadata": {},
   "outputs": [],
   "source": [
    "data.isna().sum()"
   ]
  },
  {
   "cell_type": "code",
   "execution_count": null,
   "metadata": {
    "collapsed": true
   },
   "outputs": [],
   "source": [
    "data.dropna(inplace = True)\n",
    "# remove entries with NA"
   ]
  },
  {
   "cell_type": "code",
   "execution_count": null,
   "metadata": {},
   "outputs": [],
   "source": [
    "data.info()"
   ]
  },
  {
   "cell_type": "code",
   "execution_count": null,
   "metadata": {},
   "outputs": [],
   "source": [
    "data.iloc[0]"
   ]
  },
  {
   "cell_type": "code",
   "execution_count": null,
   "metadata": {
    "collapsed": true
   },
   "outputs": [],
   "source": [
    "# # Read FASTA file from NCBI GenBank\n",
    "# from Bio import Entrez\n",
    "# Entrez.email = 'A.N.Other@example.com' # Always tell NCBI who you are\n",
    "# handle = Entrez.efetch(db=\"nucleotide\", id=data.iloc[0]['gbid'], rettype=\"gb\")\n",
    "# seq_record = SeqIO.read(handle, \"gb\")\n",
    "# print(seq_record.seq)"
   ]
  },
  {
   "cell_type": "code",
   "execution_count": null,
   "metadata": {},
   "outputs": [],
   "source": [
    "#from Bio import Entrez\n",
    "from Bio.SeqUtils import GC\n",
    "\n",
    "gbId_5 = data[:5]['gbid']\n",
    "\n",
    "for gb in gbId_5:\n",
    "    #print(gb)\n",
    "    Entrez.email = 'A.N.Other@example.com' # Always tell NCBI who you are\n",
    "    handle = Entrez.efetch(db=\"nucleotide\", id=gb, rettype=\"gb\")\n",
    "    seq_record = SeqIO.read(handle, \"gb\")\n",
    "    #print(seq_record.seq)\n",
    "    print('SeqId = {0}, GC = {1}'.format(seq_record.id, GC(seq_record.seq)))"
   ]
  },
  {
   "cell_type": "code",
   "execution_count": null,
   "metadata": {
    "collapsed": true
   },
   "outputs": [],
   "source": []
  }
 ],
 "metadata": {
  "kernelspec": {
   "display_name": "Python 3",
   "language": "python",
   "name": "python3"
  },
  "language_info": {
   "codemirror_mode": {
    "name": "ipython",
    "version": 3
   },
   "file_extension": ".py",
   "mimetype": "text/x-python",
   "name": "python",
   "nbconvert_exporter": "python",
   "pygments_lexer": "ipython3",
   "version": "3.4.3"
  }
 },
 "nbformat": 4,
 "nbformat_minor": 2
}
